{
  "nbformat": 4,
  "nbformat_minor": 0,
  "metadata": {
    "colab": {
      "provenance": [],
      "gpuType": "T4",
      "authorship_tag": "ABX9TyMHJo7e7EHytbwqJn2Odt2e",
      "include_colab_link": true
    },
    "kernelspec": {
      "name": "python3",
      "display_name": "Python 3"
    },
    "language_info": {
      "name": "python"
    },
    "accelerator": "GPU"
  },
  "cells": [
    {
      "cell_type": "markdown",
      "metadata": {
        "id": "view-in-github",
        "colab_type": "text"
      },
      "source": [
        "<a href=\"https://colab.research.google.com/github/ppaunovski/vvmn_graph_mixer/blob/master/GraphMixer_reddit.ipynb\" target=\"_parent\"><img src=\"https://colab.research.google.com/assets/colab-badge.svg\" alt=\"Open In Colab\"/></a>"
      ]
    },
    {
      "cell_type": "code",
      "execution_count": 1,
      "metadata": {
        "colab": {
          "base_uri": "https://localhost:8080/"
        },
        "id": "EqHFzClgjCSJ",
        "outputId": "3c51ef5e-b75b-47e7-baf3-04a35fd5aed4"
      },
      "outputs": [
        {
          "output_type": "stream",
          "name": "stdout",
          "text": [
            "fatal: destination path 'GraphMixer' already exists and is not an empty directory.\n"
          ]
        }
      ],
      "source": [
        "! git clone https://github.com/CongWeilin/GraphMixer.git"
      ]
    },
    {
      "cell_type": "code",
      "source": [
        "import torch\n",
        "\n",
        "# pytorch\n",
        "!pip3 install torch torchvision torchaudio --extra-index-url https://download.pytorch.org/whl/cu116\n",
        "\n",
        "# pytorch-geometric\n",
        "!pip install torch-scatter torch-sparse torch-cluster torch-spline-conv torch-geometric -f https://data.pyg.org/whl/torch-{torch.__version__}.html\n",
        "\n",
        "# pybind11 (used for c++ sampler)\n",
        "!pip install pybind11"
      ],
      "metadata": {
        "colab": {
          "base_uri": "https://localhost:8080/"
        },
        "id": "3-cNH2H5jRuS",
        "outputId": "5678531c-d8b1-49bd-9650-f2e60ef01736"
      },
      "execution_count": 2,
      "outputs": [
        {
          "output_type": "stream",
          "name": "stdout",
          "text": [
            "Looking in indexes: https://pypi.org/simple, https://download.pytorch.org/whl/cu116\n",
            "Requirement already satisfied: torch in /usr/local/lib/python3.10/dist-packages (2.3.0)\n",
            "Requirement already satisfied: torchvision in /usr/local/lib/python3.10/dist-packages (0.18.0+cu121)\n",
            "Requirement already satisfied: torchaudio in /usr/local/lib/python3.10/dist-packages (2.3.0+cu121)\n",
            "Requirement already satisfied: filelock in /usr/local/lib/python3.10/dist-packages (from torch) (3.15.4)\n",
            "Requirement already satisfied: typing-extensions>=4.8.0 in /usr/local/lib/python3.10/dist-packages (from torch) (4.12.2)\n",
            "Requirement already satisfied: sympy in /usr/local/lib/python3.10/dist-packages (from torch) (1.12.1)\n",
            "Requirement already satisfied: networkx in /usr/local/lib/python3.10/dist-packages (from torch) (3.3)\n",
            "Requirement already satisfied: jinja2 in /usr/local/lib/python3.10/dist-packages (from torch) (3.1.4)\n",
            "Requirement already satisfied: fsspec in /usr/local/lib/python3.10/dist-packages (from torch) (2023.6.0)\n",
            "Requirement already satisfied: nvidia-cuda-nvrtc-cu12==12.1.105 in /usr/local/lib/python3.10/dist-packages (from torch) (12.1.105)\n",
            "Requirement already satisfied: nvidia-cuda-runtime-cu12==12.1.105 in /usr/local/lib/python3.10/dist-packages (from torch) (12.1.105)\n",
            "Requirement already satisfied: nvidia-cuda-cupti-cu12==12.1.105 in /usr/local/lib/python3.10/dist-packages (from torch) (12.1.105)\n",
            "Requirement already satisfied: nvidia-cudnn-cu12==8.9.2.26 in /usr/local/lib/python3.10/dist-packages (from torch) (8.9.2.26)\n",
            "Requirement already satisfied: nvidia-cublas-cu12==12.1.3.1 in /usr/local/lib/python3.10/dist-packages (from torch) (12.1.3.1)\n",
            "Requirement already satisfied: nvidia-cufft-cu12==11.0.2.54 in /usr/local/lib/python3.10/dist-packages (from torch) (11.0.2.54)\n",
            "Requirement already satisfied: nvidia-curand-cu12==10.3.2.106 in /usr/local/lib/python3.10/dist-packages (from torch) (10.3.2.106)\n",
            "Requirement already satisfied: nvidia-cusolver-cu12==11.4.5.107 in /usr/local/lib/python3.10/dist-packages (from torch) (11.4.5.107)\n",
            "Requirement already satisfied: nvidia-cusparse-cu12==12.1.0.106 in /usr/local/lib/python3.10/dist-packages (from torch) (12.1.0.106)\n",
            "Requirement already satisfied: nvidia-nccl-cu12==2.20.5 in /usr/local/lib/python3.10/dist-packages (from torch) (2.20.5)\n",
            "Requirement already satisfied: nvidia-nvtx-cu12==12.1.105 in /usr/local/lib/python3.10/dist-packages (from torch) (12.1.105)\n",
            "Requirement already satisfied: triton==2.3.0 in /usr/local/lib/python3.10/dist-packages (from torch) (2.3.0)\n",
            "Requirement already satisfied: nvidia-nvjitlink-cu12 in /usr/local/lib/python3.10/dist-packages (from nvidia-cusolver-cu12==11.4.5.107->torch) (12.5.82)\n",
            "Requirement already satisfied: numpy in /usr/local/lib/python3.10/dist-packages (from torchvision) (1.25.2)\n",
            "Requirement already satisfied: pillow!=8.3.*,>=5.3.0 in /usr/local/lib/python3.10/dist-packages (from torchvision) (9.4.0)\n",
            "Requirement already satisfied: MarkupSafe>=2.0 in /usr/local/lib/python3.10/dist-packages (from jinja2->torch) (2.1.5)\n",
            "Requirement already satisfied: mpmath<1.4.0,>=1.1.0 in /usr/local/lib/python3.10/dist-packages (from sympy->torch) (1.3.0)\n",
            "Looking in links: https://data.pyg.org/whl/torch-2.3.0+cu121.html\n",
            "Requirement already satisfied: torch-scatter in /usr/local/lib/python3.10/dist-packages (2.1.2+pt23cu121)\n",
            "Requirement already satisfied: torch-sparse in /usr/local/lib/python3.10/dist-packages (0.6.18+pt23cu121)\n",
            "Requirement already satisfied: torch-cluster in /usr/local/lib/python3.10/dist-packages (1.6.3+pt23cu121)\n",
            "Collecting torch-spline-conv\n",
            "  Downloading https://data.pyg.org/whl/torch-2.3.0%2Bcu121/torch_spline_conv-1.2.2%2Bpt23cu121-cp310-cp310-linux_x86_64.whl (947 kB)\n",
            "\u001b[2K     \u001b[90m━━━━━━━━━━━━━━━━━━━━━━━━━━━━━━━━━━━━━━━━\u001b[0m \u001b[32m947.1/947.1 kB\u001b[0m \u001b[31m14.7 MB/s\u001b[0m eta \u001b[36m0:00:00\u001b[0m\n",
            "\u001b[?25hRequirement already satisfied: torch-geometric in /usr/local/lib/python3.10/dist-packages (2.6.0)\n",
            "Requirement already satisfied: scipy in /usr/local/lib/python3.10/dist-packages (from torch-sparse) (1.11.4)\n",
            "Requirement already satisfied: aiohttp in /usr/local/lib/python3.10/dist-packages (from torch-geometric) (3.9.5)\n",
            "Requirement already satisfied: fsspec in /usr/local/lib/python3.10/dist-packages (from torch-geometric) (2023.6.0)\n",
            "Requirement already satisfied: jinja2 in /usr/local/lib/python3.10/dist-packages (from torch-geometric) (3.1.4)\n",
            "Requirement already satisfied: numpy in /usr/local/lib/python3.10/dist-packages (from torch-geometric) (1.25.2)\n",
            "Requirement already satisfied: psutil>=5.8.0 in /usr/local/lib/python3.10/dist-packages (from torch-geometric) (5.9.5)\n",
            "Requirement already satisfied: pyparsing in /usr/local/lib/python3.10/dist-packages (from torch-geometric) (3.1.2)\n",
            "Requirement already satisfied: requests in /usr/local/lib/python3.10/dist-packages (from torch-geometric) (2.31.0)\n",
            "Requirement already satisfied: tqdm in /usr/local/lib/python3.10/dist-packages (from torch-geometric) (4.66.4)\n",
            "Requirement already satisfied: aiosignal>=1.1.2 in /usr/local/lib/python3.10/dist-packages (from aiohttp->torch-geometric) (1.3.1)\n",
            "Requirement already satisfied: attrs>=17.3.0 in /usr/local/lib/python3.10/dist-packages (from aiohttp->torch-geometric) (23.2.0)\n",
            "Requirement already satisfied: frozenlist>=1.1.1 in /usr/local/lib/python3.10/dist-packages (from aiohttp->torch-geometric) (1.4.1)\n",
            "Requirement already satisfied: multidict<7.0,>=4.5 in /usr/local/lib/python3.10/dist-packages (from aiohttp->torch-geometric) (6.0.5)\n",
            "Requirement already satisfied: yarl<2.0,>=1.0 in /usr/local/lib/python3.10/dist-packages (from aiohttp->torch-geometric) (1.9.4)\n",
            "Requirement already satisfied: async-timeout<5.0,>=4.0 in /usr/local/lib/python3.10/dist-packages (from aiohttp->torch-geometric) (4.0.3)\n",
            "Requirement already satisfied: MarkupSafe>=2.0 in /usr/local/lib/python3.10/dist-packages (from jinja2->torch-geometric) (2.1.5)\n",
            "Requirement already satisfied: charset-normalizer<4,>=2 in /usr/local/lib/python3.10/dist-packages (from requests->torch-geometric) (3.3.2)\n",
            "Requirement already satisfied: idna<4,>=2.5 in /usr/local/lib/python3.10/dist-packages (from requests->torch-geometric) (3.7)\n",
            "Requirement already satisfied: urllib3<3,>=1.21.1 in /usr/local/lib/python3.10/dist-packages (from requests->torch-geometric) (2.0.7)\n",
            "Requirement already satisfied: certifi>=2017.4.17 in /usr/local/lib/python3.10/dist-packages (from requests->torch-geometric) (2024.6.2)\n",
            "Installing collected packages: torch-spline-conv\n",
            "Successfully installed torch-spline-conv-1.2.2+pt23cu121\n",
            "Requirement already satisfied: pybind11 in /usr/local/lib/python3.10/dist-packages (2.13.1)\n"
          ]
        }
      ]
    },
    {
      "cell_type": "code",
      "source": [
        "!wget -P ./REDDIT https://s3.us-west-2.amazonaws.com/dgl-data/dataset/tgl/REDDIT/edge_features.pt\n",
        "!wget -P ./REDDIT https://s3.us-west-2.amazonaws.com/dgl-data/dataset/tgl/REDDIT/edges.csv\n",
        "!wget -P ./REDDIT https://s3.us-west-2.amazonaws.com/dgl-data/dataset/tgl/REDDIT/labels.csv"
      ],
      "metadata": {
        "colab": {
          "base_uri": "https://localhost:8080/"
        },
        "id": "svsqm6cPjfnf",
        "outputId": "106e041b-a891-4acc-d11b-0ea113adb4cc"
      },
      "execution_count": 3,
      "outputs": [
        {
          "output_type": "stream",
          "name": "stdout",
          "text": [
            "--2024-07-10 17:05:26--  https://s3.us-west-2.amazonaws.com/dgl-data/dataset/tgl/REDDIT/edge_features.pt\n",
            "Resolving s3.us-west-2.amazonaws.com (s3.us-west-2.amazonaws.com)... 52.92.227.144, 52.92.196.88, 52.92.249.88, ...\n",
            "Connecting to s3.us-west-2.amazonaws.com (s3.us-west-2.amazonaws.com)|52.92.227.144|:443... connected.\n",
            "HTTP request sent, awaiting response... 200 OK\n",
            "Length: 462644280 (441M) [binary/octet-stream]\n",
            "Saving to: ‘./REDDIT/edge_features.pt’\n",
            "\n",
            "edge_features.pt    100%[===================>] 441.21M  20.4MB/s    in 20s     \n",
            "\n",
            "2024-07-10 17:05:47 (21.7 MB/s) - ‘./REDDIT/edge_features.pt’ saved [462644280/462644280]\n",
            "\n",
            "--2024-07-10 17:05:47--  https://s3.us-west-2.amazonaws.com/dgl-data/dataset/tgl/REDDIT/edges.csv\n",
            "Resolving s3.us-west-2.amazonaws.com (s3.us-west-2.amazonaws.com)... 52.92.207.208, 52.92.211.240, 52.218.178.160, ...\n",
            "Connecting to s3.us-west-2.amazonaws.com (s3.us-west-2.amazonaws.com)|52.92.207.208|:443... connected.\n",
            "HTTP request sent, awaiting response... 200 OK\n",
            "Length: 26115843 (25M) [text/csv]\n",
            "Saving to: ‘./REDDIT/edges.csv’\n",
            "\n",
            "edges.csv           100%[===================>]  24.91M  11.8MB/s    in 2.1s    \n",
            "\n",
            "2024-07-10 17:05:50 (11.8 MB/s) - ‘./REDDIT/edges.csv’ saved [26115843/26115843]\n",
            "\n",
            "--2024-07-10 17:05:50--  https://s3.us-west-2.amazonaws.com/dgl-data/dataset/tgl/REDDIT/labels.csv\n",
            "Resolving s3.us-west-2.amazonaws.com (s3.us-west-2.amazonaws.com)... 52.92.207.208, 52.92.211.240, 52.218.178.160, ...\n",
            "Connecting to s3.us-west-2.amazonaws.com (s3.us-west-2.amazonaws.com)|52.92.207.208|:443... connected.\n",
            "HTTP request sent, awaiting response... 200 OK\n",
            "Length: 22081164 (21M) [text/csv]\n",
            "Saving to: ‘./REDDIT/labels.csv’\n",
            "\n",
            "labels.csv          100%[===================>]  21.06M  11.5MB/s    in 1.8s    \n",
            "\n",
            "2024-07-10 17:05:53 (11.5 MB/s) - ‘./REDDIT/labels.csv’ saved [22081164/22081164]\n",
            "\n"
          ]
        }
      ]
    },
    {
      "cell_type": "code",
      "source": [
        "!python ./GraphMixer/gen_graph.py --data REDDIT"
      ],
      "metadata": {
        "colab": {
          "base_uri": "https://localhost:8080/"
        },
        "id": "x1WRXSVpm2kP",
        "outputId": "c1950499-f95c-45e9-9142-163eb98cd87b"
      },
      "execution_count": 6,
      "outputs": [
        {
          "output_type": "stream",
          "name": "stdout",
          "text": [
            "Namespace(data='REDDIT', add_reverse=True)\n",
            "num_nodes:  10985\n",
            "100% 672447/672447 [00:32<00:00, 20792.81it/s]\n",
            "100% 10985/10985 [00:00<00:00, 388099.78it/s]\n",
            "Sorting...\n",
            "100% 10985/10985 [00:00<00:00, 109904.08it/s]\n",
            "saving...\n"
          ]
        }
      ]
    },
    {
      "cell_type": "code",
      "source": [
        "!cd GraphMixer"
      ],
      "metadata": {
        "id": "OmPXnWZVpHdn"
      },
      "execution_count": 10,
      "outputs": []
    },
    {
      "cell_type": "code",
      "source": [
        "!cd GraphMixer && python setup.py build_ext --inplace\n"
      ],
      "metadata": {
        "colab": {
          "base_uri": "https://localhost:8080/"
        },
        "id": "0jyO8VOCoozd",
        "outputId": "fbcef876-e02a-408c-d471-d53191d33494"
      },
      "execution_count": 13,
      "outputs": [
        {
          "output_type": "stream",
          "name": "stdout",
          "text": [
            "running build_ext\n",
            "building 'sampler_core' extension\n",
            "creating build\n",
            "creating build/temp.linux-x86_64-cpython-310\n",
            "x86_64-linux-gnu-gcc -Wno-unused-result -Wsign-compare -DNDEBUG -g -fwrapv -O2 -Wall -g -fstack-protector-strong -Wformat -Werror=format-security -g -fwrapv -O2 -fPIC -I/usr/local/lib/python3.10/dist-packages/pybind11/include -I/usr/include/python3.10 -c sampler_core.cpp -o build/temp.linux-x86_64-cpython-310/sampler_core.o -fvisibility=hidden -g0 -fopenmp\n",
            "\u001b[01m\u001b[Ksampler_core.cpp:\u001b[m\u001b[K In constructor ‘\u001b[01m\u001b[KParallelSampler::ParallelSampler(std::vector<int>&, std::vector<int>&, std::vector<int>&, std::vector<float>&, int, int, int, std::vector<int>&, bool, bool, int, TimeStampType)\u001b[m\u001b[K’:\n",
            "\u001b[01m\u001b[Ksampler_core.cpp:57:10:\u001b[m\u001b[K \u001b[01;35m\u001b[Kwarning: \u001b[m\u001b[K‘\u001b[01m\u001b[KParallelSampler::prop_time\u001b[m\u001b[K’ will be initialized after [\u001b[01;35m\u001b[K\u001b]8;;https://gcc.gnu.org/onlinedocs/gcc/Warning-Options.html#index-Wreorder\u0007-Wreorder\u001b]8;;\u0007\u001b[m\u001b[K]\n",
            "   57 |     bool \u001b[01;35m\u001b[Kprop_time\u001b[m\u001b[K;\n",
            "      |          \u001b[01;35m\u001b[K^~~~~~~~~\u001b[m\u001b[K\n",
            "\u001b[01m\u001b[Ksampler_core.cpp:51:9:\u001b[m\u001b[K \u001b[01;35m\u001b[Kwarning: \u001b[m\u001b[K  ‘\u001b[01m\u001b[Kint ParallelSampler::num_thread_per_worker\u001b[m\u001b[K’ [\u001b[01;35m\u001b[K\u001b]8;;https://gcc.gnu.org/onlinedocs/gcc/Warning-Options.html#index-Wreorder\u0007-Wreorder\u001b]8;;\u0007\u001b[m\u001b[K]\n",
            "   51 |     int \u001b[01;35m\u001b[Knum_thread_per_worker\u001b[m\u001b[K;\n",
            "      |         \u001b[01;35m\u001b[K^~~~~~~~~~~~~~~~~~~~~\u001b[m\u001b[K\n",
            "\u001b[01m\u001b[Ksampler_core.cpp:64:5:\u001b[m\u001b[K \u001b[01;35m\u001b[Kwarning: \u001b[m\u001b[K  when initialized here [\u001b[01;35m\u001b[K\u001b]8;;https://gcc.gnu.org/onlinedocs/gcc/Warning-Options.html#index-Wreorder\u0007-Wreorder\u001b]8;;\u0007\u001b[m\u001b[K]\n",
            "   64 |     \u001b[01;35m\u001b[KParallelSampler\u001b[m\u001b[K(std::vector<EdgeIDType> &_indptr, std::vector<EdgeIDType> &_indices,\n",
            "      |     \u001b[01;35m\u001b[K^~~~~~~~~~~~~~~\u001b[m\u001b[K\n",
            "\u001b[01m\u001b[Ksampler_core.cpp:\u001b[m\u001b[K In member function ‘\u001b[01m\u001b[Kvoid ParallelSampler::update_ts_ptr(int, std::vector<int>&, std::vector<float>&, float)\u001b[m\u001b[K’:\n",
            "\u001b[01m\u001b[Ksampler_core.cpp:109:75:\u001b[m\u001b[K \u001b[01;35m\u001b[Kwarning: \u001b[m\u001b[Kcomparison of integer expressions of different signedness: ‘\u001b[01m\u001b[Kstd::vector<int>::size_type\u001b[m\u001b[K’ {aka ‘\u001b[01m\u001b[Klong unsigned int\u001b[m\u001b[K’} and ‘\u001b[01m\u001b[K__gnu_cxx::__alloc_traits<std::allocator<int>, int>::value_type\u001b[m\u001b[K’ {aka ‘\u001b[01m\u001b[Kint\u001b[m\u001b[K’} [\u001b[01;35m\u001b[K\u001b]8;;https://gcc.gnu.org/onlinedocs/gcc/Warning-Options.html#index-Wsign-compare\u0007-Wsign-compare\u001b]8;;\u0007\u001b[m\u001b[K]\n",
            "  109 |             for (std::vector<EdgeIDType>::size_type j = ts_ptr[slc][n]; j < indptr[n + 1]; j++)\n",
            "\u001b[01m\u001b[Ksampler_core.cpp:118:23:\u001b[m\u001b[K \u001b[01;35m\u001b[Kwarning: \u001b[m\u001b[Kcomparison of integer expressions of different signedness: ‘\u001b[01m\u001b[Kstd::vector<int>::size_type\u001b[m\u001b[K’ {aka ‘\u001b[01m\u001b[Klong unsigned int\u001b[m\u001b[K’} and ‘\u001b[01m\u001b[K__gnu_cxx::__alloc_traits<std::allocator<int>, int>::value_type\u001b[m\u001b[K’ {aka ‘\u001b[01m\u001b[Kint\u001b[m\u001b[K’} [\u001b[01;35m\u001b[K\u001b]8;;https://gcc.gnu.org/onlinedocs/gcc/Warning-Options.html#index-Wsign-compare\u0007-Wsign-compare\u001b]8;;\u0007\u001b[m\u001b[K]\n",
            "  118 |                 if (\u001b[01;35m\u001b[Kj == indptr[n + 1] - 1\u001b[m\u001b[K)\n",
            "      |                     \u001b[01;35m\u001b[K~~^~~~~~~~~~~~~~~~~~~~\u001b[m\u001b[K\n",
            "\u001b[01m\u001b[Ksampler_core.cpp:\u001b[m\u001b[K In member function ‘\u001b[01m\u001b[Kvoid ParallelSampler::sample_layer(std::vector<int>&, std::vector<float>&, int, bool, bool)\u001b[m\u001b[K’:\n",
            "\u001b[01m\u001b[Ksampler_core.cpp:104:9:\u001b[m\u001b[K \u001b[01;35m\u001b[Kwarning: \u001b[m\u001b[K‘\u001b[01m\u001b[Kroot_ts\u001b[m\u001b[K’ may be used uninitialized in this function [\u001b[01;35m\u001b[K\u001b]8;;https://gcc.gnu.org/onlinedocs/gcc/Warning-Options.html#index-Wmaybe-uninitialized\u0007-Wmaybe-uninitialized\u001b]8;;\u0007\u001b[m\u001b[K]\n",
            "  104 | #pragma \u001b[01;35m\u001b[Komp\u001b[m\u001b[K parallel for schedule(static, int(ceil(static_cast <float>(root_nodes.size()) / num_threads)))\n",
            "      |         \u001b[01;35m\u001b[K^~~\u001b[m\u001b[K\n",
            "\u001b[01m\u001b[Ksampler_core.cpp:206:37:\u001b[m\u001b[K \u001b[01;36m\u001b[Knote: \u001b[m\u001b[K‘\u001b[01m\u001b[Kroot_ts\u001b[m\u001b[K’ was declared here\n",
            "  206 |         std::vector<TimeStampType> *\u001b[01;36m\u001b[Kroot_ts\u001b[m\u001b[K;\n",
            "      |                                     \u001b[01;36m\u001b[K^~~~~~~\u001b[m\u001b[K\n",
            "\u001b[01m\u001b[Ksampler_core.cpp:104:9:\u001b[m\u001b[K \u001b[01;35m\u001b[Kwarning: \u001b[m\u001b[K‘\u001b[01m\u001b[Kroot_nodes\u001b[m\u001b[K’ may be used uninitialized in this function [\u001b[01;35m\u001b[K\u001b]8;;https://gcc.gnu.org/onlinedocs/gcc/Warning-Options.html#index-Wmaybe-uninitialized\u0007-Wmaybe-uninitialized\u001b]8;;\u0007\u001b[m\u001b[K]\n",
            "  104 | #pragma \u001b[01;35m\u001b[Komp\u001b[m\u001b[K parallel for schedule(static, int(ceil(static_cast <float>(root_nodes.size()) / num_threads)))\n",
            "      |         \u001b[01;35m\u001b[K^~~\u001b[m\u001b[K\n",
            "\u001b[01m\u001b[Ksampler_core.cpp:205:34:\u001b[m\u001b[K \u001b[01;36m\u001b[Knote: \u001b[m\u001b[K‘\u001b[01m\u001b[Kroot_nodes\u001b[m\u001b[K’ was declared here\n",
            "  205 |         std::vector<NodeIDType> *\u001b[01;36m\u001b[Kroot_nodes\u001b[m\u001b[K;\n",
            "      |                                  \u001b[01;36m\u001b[K^~~~~~~~~~\u001b[m\u001b[K\n",
            "creating build/lib.linux-x86_64-cpython-310\n",
            "x86_64-linux-gnu-g++ -shared -Wl,-O1 -Wl,-Bsymbolic-functions -Wl,-Bsymbolic-functions -g -fwrapv -O2 build/temp.linux-x86_64-cpython-310/sampler_core.o -L/usr/lib/x86_64-linux-gnu -o build/lib.linux-x86_64-cpython-310/sampler_core.cpython-310-x86_64-linux-gnu.so -fopenmp\n",
            "copying build/lib.linux-x86_64-cpython-310/sampler_core.cpython-310-x86_64-linux-gnu.so -> \n"
          ]
        }
      ]
    },
    {
      "cell_type": "code",
      "source": [
        "!cd GraphMixer && python train.py --data REDDIT     --num_neighbors 10 --use_cached_subgraph --use_onehot_node_feats"
      ],
      "metadata": {
        "colab": {
          "base_uri": "https://localhost:8080/"
        },
        "id": "s1qw2X6ennPU",
        "outputId": "0ac28b15-1a16-4401-e294-be97f32ba415"
      },
      "execution_count": 15,
      "outputs": [
        {
          "output_type": "stream",
          "name": "stdout",
          "text": [
            "Namespace(data='REDDIT', device=0, batch_size=600, epochs=300, max_edges=50, lr=0.0001, weight_decay=1e-06, model='mlp_mixer', neg_samples=1, extra_neg_samples=5, num_neighbors=10, sampled_num_hops=1, hidden_dims=100, num_layers=1, regen_models=True, check_data_leakage=False, ignore_node_feats=False, node_feats_as_edge_feats=False, ignore_edge_feats=False, use_onehot_node_feats=True, use_graph_structure=True, structure_time_gap=2000, structure_hops=1, use_node_cls=False, use_cached_subgraph=True)\n",
            "Train 470713, Valid 100867, Test 100867\n",
            "Num nodes 10985, num edges 672447\n",
            ">>> Use one-hot node features\n",
            "Node feature dim 10985, edge feature dim 172\n",
            "base_model.feat_encoder.time_encoder.w.weight False\n",
            "base_model.feat_encoder.time_encoder.w.bias False\n",
            "base_model.feat_encoder.feat_encoder.weight True\n",
            "base_model.feat_encoder.feat_encoder.bias True\n",
            "base_model.layernorm.weight True\n",
            "base_model.layernorm.bias True\n",
            "base_model.mlp_head.weight True\n",
            "base_model.mlp_head.bias True\n",
            "base_model.mixer_blocks.0.token_layernorm.weight True\n",
            "base_model.mixer_blocks.0.token_layernorm.bias True\n",
            "base_model.mixer_blocks.0.token_forward.linear_0.weight True\n",
            "base_model.mixer_blocks.0.token_forward.linear_0.bias True\n",
            "base_model.mixer_blocks.0.token_forward.linear_1.weight True\n",
            "base_model.mixer_blocks.0.token_forward.linear_1.bias True\n",
            "base_model.mixer_blocks.0.channel_layernorm.weight True\n",
            "base_model.mixer_blocks.0.channel_layernorm.bias True\n",
            "base_model.mixer_blocks.0.channel_forward.linear_0.weight True\n",
            "base_model.mixer_blocks.0.channel_forward.linear_0.bias True\n",
            "base_model.mixer_blocks.0.channel_forward.linear_1.weight True\n",
            "base_model.mixer_blocks.0.channel_forward.linear_1.bias True\n",
            "edge_predictor.src_fc.weight True\n",
            "edge_predictor.src_fc.bias True\n",
            "edge_predictor.dst_fc.weight True\n",
            "edge_predictor.dst_fc.bias True\n",
            "edge_predictor.out_fc.weight True\n",
            "edge_predictor.out_fc.bias True\n",
            "Mixer_per_node(\n",
            "  (base_model): MLPMixer(\n",
            "    (feat_encoder): FeatEncode(\n",
            "      (time_encoder): TimeEncode(\n",
            "        (w): Linear(in_features=1, out_features=100, bias=True)\n",
            "      )\n",
            "      (feat_encoder): Linear(in_features=272, out_features=100, bias=True)\n",
            "    )\n",
            "    (layernorm): LayerNorm((100,), eps=1e-05, elementwise_affine=True)\n",
            "    (mlp_head): Linear(in_features=100, out_features=100, bias=True)\n",
            "    (mixer_blocks): ModuleList(\n",
            "      (0): MixerBlock(\n",
            "        (token_layernorm): LayerNorm((100,), eps=1e-05, elementwise_affine=True)\n",
            "        (token_forward): FeedForward(\n",
            "          (linear_0): Linear(in_features=50, out_features=25, bias=True)\n",
            "          (linear_1): Linear(in_features=25, out_features=50, bias=True)\n",
            "        )\n",
            "        (channel_layernorm): LayerNorm((100,), eps=1e-05, elementwise_affine=True)\n",
            "        (channel_forward): FeedForward(\n",
            "          (linear_0): Linear(in_features=100, out_features=400, bias=True)\n",
            "          (linear_1): Linear(in_features=400, out_features=100, bias=True)\n",
            "        )\n",
            "      )\n",
            "    )\n",
            "  )\n",
            "  (edge_predictor): EdgePredictor_per_node(\n",
            "    (src_fc): Linear(in_features=11085, out_features=100, bias=True)\n",
            "    (dst_fc): Linear(in_features=11085, out_features=100, bias=True)\n",
            "    (out_fc): Linear(in_features=100, out_features=1, bias=True)\n",
            "  )\n",
            "  (creterion): BCEWithLogitsLoss()\n",
            ")\n",
            "Trainable Parameters: 2.338 million\n",
            "results/REDDIT_neighbors10_edges50_layers1_1hop\n",
            "Train link prediction task from scratch ...\n",
            "Sample subgraphs ... for train mode\n",
            "Pre-sampling: train mode with negative sampleds 5 ...: 100% 785/785 [43:06<00:00,  3.29s/it]\n",
            "^C\n"
          ]
        }
      ]
    },
    {
      "cell_type": "code",
      "source": [],
      "metadata": {
        "id": "VeHGCNIDob0_"
      },
      "execution_count": null,
      "outputs": []
    }
  ]
}